{
 "cells": [
  {
   "cell_type": "code",
   "execution_count": 1,
   "id": "c5b50f66",
   "metadata": {},
   "outputs": [
    {
     "name": "stdout",
     "output_type": "stream",
     "text": [
      "Enter text to encrypt: fdhyjyhghg\n",
      "Enter shift value: 2\n",
      "Cipher:  hfjalajiji\n"
     ]
    }
   ],
   "source": [
    "def encrypt(text, s):\n",
    "    result = \"\"\n",
    "    for i in range(len(text)):\n",
    "        char = text[i]\n",
    "        if char.isupper():\n",
    "            result += chr((ord(char) + s - 65) % 26 + 65)\n",
    "        else:\n",
    "            result += chr((ord(char) + s - 97) % 26 + 97)\n",
    "    return result\n",
    "\n",
    "text = input(\"Enter text to encrypt: \")\n",
    "s = int(input(\"Enter shift value: \"))\n",
    "print(\"Cipher: \", encrypt(text, s))\n"
   ]
  },
  {
   "cell_type": "code",
   "execution_count": 5,
   "id": "496c5c5c",
   "metadata": {},
   "outputs": [
    {
     "name": "stdout",
     "output_type": "stream",
     "text": [
      "Enter the key: uygdasgdsgr\n",
      "Enter the plaintext: wer\n",
      "Encrypted: VFSW\n"
     ]
    }
   ],
   "source": [
    "def generate_key_square(key):\n",
    "    key = \"\".join(dict.fromkeys(key))\n",
    "    key = key.replace('J', 'I')\n",
    "    if 'I' not in key:\n",
    "        key += 'I'\n",
    "    alphabet = 'ABCDEFGHIKLMNOPQRSTUVWXYZ'\n",
    "    key_square = ''\n",
    "    for char in key + alphabet:\n",
    "        if char not in key_square:\n",
    "            key_square += char\n",
    "    return key_square\n",
    "\n",
    "def prepare_text(plaintext):\n",
    "    plaintext = plaintext.replace(' ', '').upper()\n",
    "    plaintext = plaintext.replace('J', 'I')\n",
    "    return plaintext\n",
    "\n",
    "def find_position(key_square, char):\n",
    "    row, col = divmod(key_square.index(char), 5)\n",
    "    return row, col\n",
    "\n",
    "def encrypt(plaintext, key):\n",
    "    key_square = generate_key_square(key)\n",
    "    plaintext = prepare_text(plaintext)\n",
    "    ciphertext = ''\n",
    "    for i in range(0, len(plaintext), 2):\n",
    "        char1 = plaintext[i]\n",
    "        char2 = plaintext[i + 1] if i + 1 < len(plaintext) else 'X'\n",
    "        row1, col1 = find_position(key_square, char1)\n",
    "        row2, col2 = find_position(key_square, char2)\n",
    "        if row1 == row2:\n",
    "            ciphertext += key_square[row1 * 5 + (col1 + 1) % 5]\n",
    "            ciphertext += key_square[row2 * 5 + (col2 + 1) % 5]\n",
    "        elif col1 == col2:\n",
    "            ciphertext += key_square[((row1 + 1) % 5) * 5 + col1]\n",
    "            ciphertext += key_square[((row2 + 1) % 5) * 5 + col2]\n",
    "        else:\n",
    "            ciphertext += key_square[row1 * 5 + col2]\n",
    "            ciphertext += key_square[row2 * 5 + col1]\n",
    "    return ciphertext\n",
    "\n",
    "# Dynamic inputs\n",
    "key = input(\"Enter the key: \").lower()  # Convert to lowercase for consistency\n",
    "plaintext = input(\"Enter the plaintext: \").upper()  # Convert to uppercase for consistency\n",
    "encrypted_text = encrypt(plaintext, key)\n",
    "print(\"Encrypted:\", encrypted_text)\n"
   ]
  },
  {
   "cell_type": "code",
   "execution_count": 6,
   "id": "b9749ada",
   "metadata": {},
   "outputs": [
    {
     "name": "stdout",
     "output_type": "stream",
     "text": [
      "Enter the key: rgsedrgsdtydfh\n",
      "Enter the plaintext: thhj\n",
      "Encrypted: SIIK\n"
     ]
    }
   ],
   "source": [
    "def generate_key_square(key):\n",
    "    key = \"\".join(dict.fromkeys(key.replace('J', 'I') + 'ABCDEFGHIKLMNOPQRSTUVWXYZ'))\n",
    "    return key\n",
    "\n",
    "def prepare_text(plaintext):\n",
    "    return plaintext.replace(' ', '').upper().replace('J', 'I')\n",
    "\n",
    "def find_position(key_square, char):\n",
    "    index = key_square.index(char)\n",
    "    return divmod(index, 5)\n",
    "\n",
    "def encrypt(plaintext, key):\n",
    "    key_square = generate_key_square(key)\n",
    "    plaintext = prepare_text(plaintext)\n",
    "    ciphertext = ''\n",
    "    for i in range(0, len(plaintext), 2):\n",
    "        char1, char2 = plaintext[i], plaintext[i + 1] if i + 1 < len(plaintext) else 'X'\n",
    "        (row1, col1), (row2, col2) = find_position(key_square, char1), find_position(key_square, char2)\n",
    "        if row1 == row2:\n",
    "            ciphertext += key_square[row1 * 5 + (col1 + 1) % 5] + key_square[row2 * 5 + (col2 + 1) % 5]\n",
    "        elif col1 == col2:\n",
    "            ciphertext += key_square[((row1 + 1) % 5) * 5 + col1] + key_square[((row2 + 1) % 5) * 5 + col2]\n",
    "        else:\n",
    "            ciphertext += key_square[row1 * 5 + col2] + key_square[row2 * 5 + col1]\n",
    "    return ciphertext\n",
    "\n",
    "# Dynamic inputs\n",
    "key = input(\"Enter the key: \").lower()\n",
    "plaintext = input(\"Enter the plaintext: \").upper()\n",
    "encrypted_text = encrypt(plaintext, key)\n",
    "print(\"Encrypted:\", encrypted_text)\n"
   ]
  },
  {
   "cell_type": "code",
   "execution_count": 8,
   "id": "4640c71b",
   "metadata": {},
   "outputs": [
    {
     "name": "stdout",
     "output_type": "stream",
     "text": [
      "Enter p value (prime number): 4\n",
      "Enter q value (prime number): 5\n",
      "Public key: (5, 20)\n",
      "Private key: (5, 20)\n",
      "Enter message value: 2345\n",
      "Encrypted data: 5\n",
      "Original Message Sent: 5\n"
     ]
    }
   ],
   "source": [
    "import math\n",
    "\n",
    "def gcd(a, h):\n",
    "    while h != 0:\n",
    "        temp = a % h\n",
    "        a = h\n",
    "        h = temp\n",
    "    return a\n",
    "\n",
    "p = int(input('Enter p value (prime number): '))\n",
    "q = int(input('Enter q value (prime number): '))\n",
    "n = p * q\n",
    "phi = (p - 1) * (q - 1)\n",
    "\n",
    "e = 2\n",
    "while e < phi:\n",
    "    if gcd(e, phi) == 1:\n",
    "        break\n",
    "    e += 1\n",
    "\n",
    "k = 2\n",
    "while True:\n",
    "    d = (1 + k * phi) / e\n",
    "    if d.is_integer():\n",
    "        break\n",
    "    k += 1\n",
    "\n",
    "print(f\"Public key: ({e}, {n})\")\n",
    "print(f\"Private key: ({int(d)}, {n})\")\n",
    "\n",
    "msg = int(input('Enter message value: '))\n",
    "\n",
    "# Encryption: c = (msg ^ e) % n\n",
    "c = pow(msg, e, n)\n",
    "print(\"Encrypted data:\", c)\n",
    "\n",
    "# Decryption: m = (c ^ d) % n\n",
    "m = pow(c, int(d), n)\n",
    "print(\"Original Message Sent:\", int(m))\n"
   ]
  },
  {
   "cell_type": "code",
   "execution_count": null,
   "id": "abf55310",
   "metadata": {},
   "outputs": [],
   "source": [
    "import numpy as np\n",
    "pt =input('enter plaintest')\n",
    "key = input('enter key')\n",
    "\n",
    "if len(pt)%3 !=0:\n",
    "    for i in range(3-(len(pt)%3)):\n",
    "        pt+='x'\n",
    "        \n",
    "matrix_form =[]\n",
    "for i in range(0,3):\n",
    "    row =[]\n",
    "    for j in range(0,3):\n",
    "        #row.append(ord(key[i*3+j])-65)\n",
    "        row.append(ord(key[i * 3 + j]) - 65)  # Convert character to ASCII value before subtracting 65\n",
    "\n",
    "        matrix_form.append(row)\n",
    "p_m = []\n",
    "for i in range(0,len(pt),3):\n",
    "    row=[]\n",
    "    for j in range(3):\n",
    "        row.append(ord(pt[i+j])-65)\n",
    "        p_m.append(row)\n",
    "cipher_test =\"\"\n",
    "for i in range(len(p_m)):\n",
    "    m1=np.array(matrix_form)\n",
    "    m2=np.array(p_m[i]).reshape(-1,1)\n",
    "    c = np.dot(m1,m2)%26\n",
    "    c = c.flatten()+65\n",
    "    for j in range(len(c)):\n",
    "        cipher_test+=chr(c[j])\n",
    "print(cipher_test) \n",
    "        "
   ]
  }
 ],
 "metadata": {
  "kernelspec": {
   "display_name": "Python 3 (ipykernel)",
   "language": "python",
   "name": "python3"
  },
  "language_info": {
   "codemirror_mode": {
    "name": "ipython",
    "version": 3
   },
   "file_extension": ".py",
   "mimetype": "text/x-python",
   "name": "python",
   "nbconvert_exporter": "python",
   "pygments_lexer": "ipython3",
   "version": "3.11.5"
  }
 },
 "nbformat": 4,
 "nbformat_minor": 5
}
